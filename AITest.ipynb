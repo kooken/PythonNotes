{
  "nbformat": 4,
  "nbformat_minor": 0,
  "metadata": {
    "colab": {
      "provenance": []
    },
    "kernelspec": {
      "name": "python3",
      "display_name": "Python 3"
    },
    "language_info": {
      "name": "python"
    }
  },
  "cells": [
    {
      "cell_type": "code",
      "execution_count": null,
      "metadata": {
        "id": "zYygGPbeCpkp"
      },
      "outputs": [],
      "source": [
        "!pip install -quiet --upgrade --user google-cloud-aiplatform"
      ]
    },
    {
      "cell_type": "code",
      "source": [
        "import IPython\n",
        "import time\n",
        "\n",
        "app = IPython. Application. instance ()\n",
        "app. kernel.do_shutdown (True)"
      ],
      "metadata": {
        "id": "soB2Q29ACz6v"
      },
      "execution_count": null,
      "outputs": []
    },
    {
      "cell_type": "code",
      "source": [
        "from google.colab import auth\n",
        "\n",
        "auth.authenticate_user()"
      ],
      "metadata": {
        "id": "UoiUWhvmC3r6"
      },
      "execution_count": null,
      "outputs": []
    },
    {
      "cell_type": "code",
      "source": [
        "import vertexai\n",
        "\n",
        "vertexai.init(project = \"aiprojecttest-445014\", location = \"us-central1\")"
      ],
      "metadata": {
        "id": "lyMj2f06D2gg"
      },
      "execution_count": null,
      "outputs": []
    },
    {
      "cell_type": "markdown",
      "source": [
        "Generate image with Vertex Al Imagen"
      ],
      "metadata": {
        "id": "NZukWjJPFXmf"
      }
    },
    {
      "cell_type": "code",
      "source": [
        "from vertexai.preview.vision_models import ImageGenerationModel\n",
        "model = ImageGenerationModel. from_pretrained (\"imagegeneration@005\")"
      ],
      "metadata": {
        "id": "6ZgBc0apFZ9A"
      },
      "execution_count": null,
      "outputs": []
    },
    {
      "cell_type": "code",
      "source": [
        "response = model.generate_images (\n",
        "    prompt = ''' Cat from the meme. Black and white doodle cartoon style. White background.''',\n",
        "    number_of_images = 4,\n",
        "    seed = 42,\n",
        "    add_watermark = False,\n",
        "    negative_prompt = \"grey color\"\n",
        ")"
      ],
      "metadata": {
        "id": "vINF6b70Fv9d"
      },
      "execution_count": null,
      "outputs": []
    },
    {
      "cell_type": "code",
      "source": [
        "response.images[0].show()\n",
        "response.images[1].show()"
      ],
      "metadata": {
        "id": "t6a4tfcNImwm"
      },
      "execution_count": null,
      "outputs": []
    },
    {
      "cell_type": "markdown",
      "source": [
        "Generate text with Vertex AI"
      ],
      "metadata": {
        "id": "SVTg26m1NRkx"
      }
    },
    {
      "cell_type": "code",
      "source": [
        "from vertexai.preview.generative_models import GenerativeModel\n",
        "\n",
        "model = GenerativeModel(\"gemini-pro\")"
      ],
      "metadata": {
        "id": "u7HigD9-NVin"
      },
      "execution_count": null,
      "outputs": []
    },
    {
      "cell_type": "code",
      "source": [
        "responses = model.generate_content (\"What is a meme?\", stream = True)"
      ],
      "metadata": {
        "id": "VJts8XEPNmKY"
      },
      "execution_count": null,
      "outputs": []
    },
    {
      "cell_type": "code",
      "source": [
        "for response in responses:\n",
        "  print(response.text, end = \"\")"
      ],
      "metadata": {
        "id": "GMbzLlVNNqgN"
      },
      "execution_count": null,
      "outputs": []
    },
    {
      "cell_type": "code",
      "source": [
        "from vertexai.preview.generative_models import GenerationConfig\n",
        "config = GenerationConfig (\n",
        "  temperature = 1,\n",
        "  top_k = 30,\n",
        "  top_p = 1.0,\n",
        "  candidate_count = 4,\n",
        "  max_output_tokens = 800\n",
        ")\n",
        "responses = model.generate_content (\"What is a meme?\", stream = True)\n",
        "for response in responses:\n",
        "  print(response.text, end = \"\")"
      ],
      "metadata": {
        "collapsed": true,
        "id": "eYz5JeKeOiJO"
      },
      "execution_count": null,
      "outputs": []
    },
    {
      "cell_type": "markdown",
      "source": [
        "Building chat conversation"
      ],
      "metadata": {
        "id": "CVYvf_cQPgye"
      }
    },
    {
      "cell_type": "code",
      "source": [
        "chat = model.start_chat()\n",
        "responses = chat.send_message(\"Hi there! I am a newbie in AI. What should I learn first?\", stream = True)\n",
        "\n",
        "for response in responses:\n",
        "  print(response.text, end = \"\")"
      ],
      "metadata": {
        "id": "J7X74CCHPbbN"
      },
      "execution_count": null,
      "outputs": []
    },
    {
      "cell_type": "code",
      "source": [
        "responses = chat.send_message(\"What should be my next steps?\", stream = True)\n",
        "\n",
        "for response in responses:\n",
        "  print(response.text, end = \"\")"
      ],
      "metadata": {
        "id": "d61e7ga5QBAS"
      },
      "execution_count": null,
      "outputs": []
    },
    {
      "cell_type": "code",
      "source": [
        "print(chat.history)"
      ],
      "metadata": {
        "id": "8nGxtmdOQK4o"
      },
      "execution_count": null,
      "outputs": []
    },
    {
      "cell_type": "code",
      "source": [],
      "metadata": {
        "id": "7jfZj1bJQl5M"
      },
      "execution_count": null,
      "outputs": []
    }
  ]
}