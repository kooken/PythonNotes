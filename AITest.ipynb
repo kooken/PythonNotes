{
  "cells": [
    {
      "cell_type": "code",
      "execution_count": null,
      "metadata": {
        "id": "zYygGPbeCpkp"
      },
      "outputs": [],
      "source": [
        "!pip install -quiet --upgrade --user google-cloud-aiplatform"
      ]
    },
    {
      "cell_type": "code",
      "execution_count": null,
      "metadata": {
        "id": "soB2Q29ACz6v"
      },
      "outputs": [],
      "source": [
        "import IPython\n",
        "import time\n",
        "\n",
        "app = IPython. Application. instance ()\n",
        "app. kernel.do_shutdown (True)"
      ]
    },
    {
      "cell_type": "code",
      "execution_count": null,
      "metadata": {
        "id": "UoiUWhvmC3r6"
      },
      "outputs": [],
      "source": [
        "from google.colab import auth\n",
        "\n",
        "auth.authenticate_user()"
      ]
    },
    {
      "cell_type": "code",
      "execution_count": null,
      "metadata": {
        "id": "lyMj2f06D2gg"
      },
      "outputs": [],
      "source": [
        "import vertexai\n",
        "\n",
        "vertexai.init(project = \"aiprojecttest-445014\", location = \"us-central1\")"
      ]
    },
    {
      "cell_type": "markdown",
      "metadata": {
        "id": "NZukWjJPFXmf"
      },
      "source": [
        "Generate image with Vertex Al Imagen"
      ]
    },
    {
      "cell_type": "code",
      "execution_count": null,
      "metadata": {
        "id": "6ZgBc0apFZ9A"
      },
      "outputs": [],
      "source": [
        "from vertexai.preview.vision_models import ImageGenerationModel\n",
        "model = ImageGenerationModel. from_pretrained (\"imagegeneration@005\")"
      ]
    },
    {
      "cell_type": "code",
      "execution_count": null,
      "metadata": {
        "id": "vINF6b70Fv9d"
      },
      "outputs": [],
      "source": [
        "response = model.generate_images (\n",
        "    prompt = ''' Cat from the meme. Black and white doodle cartoon style. White background.''',\n",
        "    number_of_images = 4,\n",
        "    seed = 42,\n",
        "    add_watermark = False,\n",
        "    negative_prompt = \"grey color\"\n",
        ")"
      ]
    },
    {
      "cell_type": "code",
      "execution_count": null,
      "metadata": {
        "id": "t6a4tfcNImwm"
      },
      "outputs": [],
      "source": [
        "response.images[0].show()\n",
        "response.images[1].show()"
      ]
    },
    {
      "cell_type": "markdown",
      "metadata": {
        "id": "SVTg26m1NRkx"
      },
      "source": [
        "Generate text with Vertex AI"
      ]
    },
    {
      "cell_type": "code",
      "execution_count": null,
      "metadata": {
        "id": "u7HigD9-NVin"
      },
      "outputs": [],
      "source": [
        "from vertexai.preview.generative_models import GenerativeModel\n",
        "\n",
        "model = GenerativeModel(\"gemini-pro\")"
      ]
    },
    {
      "cell_type": "code",
      "execution_count": null,
      "metadata": {
        "id": "VJts8XEPNmKY"
      },
      "outputs": [],
      "source": [
        "responses = model.generate_content (\"What is a meme?\", stream = True)"
      ]
    },
    {
      "cell_type": "code",
      "execution_count": null,
      "metadata": {
        "id": "GMbzLlVNNqgN"
      },
      "outputs": [],
      "source": [
        "for response in responses:\n",
        "  print(response.text, end = \"\")"
      ]
    },
    {
      "cell_type": "code",
      "execution_count": null,
      "metadata": {
        "collapsed": true,
        "id": "eYz5JeKeOiJO"
      },
      "outputs": [],
      "source": [
        "from vertexai.preview.generative_models import GenerationConfig\n",
        "config = GenerationConfig (\n",
        "  temperature = 1,\n",
        "  top_k = 30,\n",
        "  top_p = 1.0,\n",
        "  candidate_count = 4,\n",
        "  max_output_tokens = 800\n",
        ")\n",
        "responses = model.generate_content (\"What is a meme?\", stream = True)\n",
        "for response in responses:\n",
        "  print(response.text, end = \"\")"
      ]
    },
    {
      "cell_type": "markdown",
      "metadata": {
        "id": "CVYvf_cQPgye"
      },
      "source": [
        "Building chat conversation"
      ]
    },
    {
      "cell_type": "code",
      "execution_count": null,
      "metadata": {
        "id": "J7X74CCHPbbN"
      },
      "outputs": [],
      "source": [
        "chat = model.start_chat()\n",
        "responses = chat.send_message(\"Hi there! I am a newbie in AI. What should I learn first?\", stream = True)\n",
        "\n",
        "for response in responses:\n",
        "  print(response.text, end = \"\")"
      ]
    },
    {
      "cell_type": "code",
      "execution_count": null,
      "metadata": {
        "id": "d61e7ga5QBAS"
      },
      "outputs": [],
      "source": [
        "responses = chat.send_message(\"What should be my next steps?\", stream = True)\n",
        "\n",
        "for response in responses:\n",
        "  print(response.text, end = \"\")"
      ]
    },
    {
      "cell_type": "code",
      "execution_count": null,
      "metadata": {
        "id": "8nGxtmdOQK4o"
      },
      "outputs": [],
      "source": [
        "print(chat.history)"
      ]
    },
    {
      "cell_type": "markdown",
      "metadata": {},
      "source": [
        "Image captioning"
      ]
    },
    {
      "cell_type": "code",
      "execution_count": null,
      "metadata": {},
      "outputs": [],
      "source": [
        "from vertexai.preview.generative_models import GenerativeModel\n",
        "captioning_model = GenerativeModel(\"gemini-pro-vision\")\n",
        "from vertexai.preview.generative_models import Image\n",
        "image = Image.load_from_file(\"pic.jpg\")"
      ]
    },
    {
      "cell_type": "code",
      "execution_count": null,
      "metadata": {},
      "outputs": [],
      "source": [
        "responses = captioning_model.generate_content (\n",
        "    [image, \"What is in this image?\"], stream = True\n",
        ")\n",
        "\n",
        "for response in responses:\n",
        "  print(response.text, end = \"\")"
      ]
    }
  ],
  "metadata": {
    "colab": {
      "provenance": []
    },
    "kernelspec": {
      "display_name": "Python 3",
      "name": "python3"
    },
    "language_info": {
      "name": "python"
    }
  },
  "nbformat": 4,
  "nbformat_minor": 0
}
